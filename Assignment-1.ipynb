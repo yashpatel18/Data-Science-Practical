{
 "cells": [
  {
   "cell_type": "code",
   "execution_count": 3,
   "id": "30dd0e54",
   "metadata": {},
   "outputs": [
    {
     "name": "stdout",
     "output_type": "stream",
     "text": [
      "Data Scientist\n",
      "[1, 22, 34.5, True, 'Machine Learning']\n",
      "3.14\n",
      "(1, 22, 68, 'XYZ')\n"
     ]
    }
   ],
   "source": [
    "# Q1. Create one variable\n",
    "\n",
    "# String type\n",
    "stringType = 'Data Scientist'\n",
    "\n",
    "# List type\n",
    "listType = [1, 22, 34.5, True, 'Machine Learning']\n",
    "\n",
    "# Float type\n",
    "floatType = 3.14\n",
    "\n",
    "#Tuple type\n",
    "tupleType = (1, 22, 68, 'XYZ')\n",
    "\n",
    "print(stringType)\n",
    "print(listType)\n",
    "print(floatType)\n",
    "print(tupleType)"
   ]
  },
  {
   "cell_type": "code",
   "execution_count": 4,
   "id": "36f01231",
   "metadata": {},
   "outputs": [
    {
     "name": "stdout",
     "output_type": "stream",
     "text": [
      "<class 'str'>\n",
      "<class 'str'>\n",
      "<class 'list'>\n",
      "<class 'int'>\n"
     ]
    }
   ],
   "source": [
    "# Q2. Given are some following variables containing data:\n",
    "\n",
    "# i. var1 = ''  --> Str\n",
    "var1 = ''\n",
    "print(type(var1))\n",
    "\n",
    "# ii. var2 = '[DS, ML, Python]'  --> Str\n",
    "var2 = '[DS, ML, Python]'\n",
    "print(type(var2))\n",
    "\n",
    "# iii. var3 = ['DS', 'ML', 'Python']  --> list\n",
    "var3 = ['DS', 'ML', 'Python'] \n",
    "print(type(var3))\n",
    "\n",
    "# iv. var4 = 1 --> int\n",
    "var4 = 1\n",
    "print(type(var4))"
   ]
  },
  {
   "cell_type": "code",
   "execution_count": 5,
   "id": "c6355fb2",
   "metadata": {},
   "outputs": [
    {
     "name": "stdout",
     "output_type": "stream",
     "text": [
      "3.3333333333333335\n",
      "1\n",
      "3\n",
      "81\n"
     ]
    }
   ],
   "source": [
    "# Q3. Explain the use of following operations using an example\n",
    "\n",
    "# i. /\n",
    "\"\"\"\"\n",
    "'/' is the divison operator.\n",
    "\"\"\"\n",
    "\n",
    "a = 10\n",
    "b = 3\n",
    "c = a/b\n",
    "print(c)\n",
    "\n",
    "# ii. %\n",
    "\"\"\"\"\n",
    "'%' is the modulus operator. It will give the remainder\n",
    "\"\"\"\n",
    "\n",
    "a = 10\n",
    "b = 3\n",
    "c = a%b\n",
    "print(c)\n",
    "\n",
    "# iii. //\n",
    "\"\"\"\"\n",
    "'//' is the floor division operator. It will give the division in integer format and not in decimal format.\n",
    "\"\"\"\n",
    "\n",
    "a = 10\n",
    "b = 3\n",
    "c = a//b\n",
    "print(c)\n",
    "\n",
    "# iv. **\n",
    "\"\"\"\"\n",
    "'**' is the exponential operator.\n",
    "\"\"\"\n",
    "\n",
    "a = 3\n",
    "b = 4\n",
    "c = a**b\n",
    "print(c)"
   ]
  },
  {
   "cell_type": "code",
   "execution_count": 6,
   "id": "e20c8c4b",
   "metadata": {},
   "outputs": [
    {
     "name": "stdout",
     "output_type": "stream",
     "text": [
      "1 <class 'int'>\n",
      "22.2 <class 'float'>\n",
      "Admin <class 'str'>\n",
      "True <class 'bool'>\n",
      "False <class 'bool'>\n",
      "Data <class 'str'>\n",
      "(4+5j) <class 'complex'>\n",
      "Stats <class 'str'>\n",
      "444 <class 'int'>\n",
      "123 <class 'int'>\n"
     ]
    }
   ],
   "source": [
    "# Q4. List of items and accessing it using for loop.\n",
    "\n",
    "List = [1, 22.2, 'Admin', True, False, 'Data', 4+5j, 'Stats', 444, 123]\n",
    "\n",
    "for li in List:\n",
    "    print(li,type(li))"
   ]
  },
  {
   "cell_type": "code",
   "execution_count": 21,
   "id": "36c24d09",
   "metadata": {},
   "outputs": [
    {
     "name": "stdout",
     "output_type": "stream",
     "text": [
      "Enter the value of A: 8\n",
      "Enter the value of B: 2\n",
      "4\n"
     ]
    }
   ],
   "source": [
    "# Q5. Checking number is divisible by a particular number\n",
    "\n",
    "A = int(input(\"Enter the value of A: \"))\n",
    "B = int(input(\"Enter the value of B: \"))\n",
    "\n",
    "if A%B == 0:\n",
    "    counter = 0\n",
    "    while A>0:\n",
    "        A = A//B\n",
    "        counter +=1\n",
    "    print(counter)    \n",
    "else:\n",
    "    print(\"A is not purely divisible by B\")"
   ]
  },
  {
   "cell_type": "code",
   "execution_count": 23,
   "id": "d7c0fed4",
   "metadata": {},
   "outputs": [
    {
     "name": "stdout",
     "output_type": "stream",
     "text": [
      "2 is not divisible by 3.\n",
      "5 is not divisible by 3.\n",
      "7 is not divisible by 3.\n",
      "11 is not divisible by 3.\n",
      "13 is not divisible by 3.\n",
      "19 is not divisible by 3.\n",
      "23 is not divisible by 3.\n",
      "29 is not divisible by 3.\n",
      "43 is not divisible by 3.\n",
      "47 is not divisible by 3.\n",
      "52 is not divisible by 3.\n",
      "59 is not divisible by 3.\n",
      "69 is divisible by 3.\n",
      "102 is divisible by 3.\n",
      "203 is not divisible by 3.\n",
      "594 is divisible by 3.\n",
      "1469 is not divisible by 3.\n",
      "3012 is divisible by 3.\n",
      "1125 is divisible by 3.\n",
      "324 is divisible by 3.\n",
      "2512 is not divisible by 3.\n",
      "192 is divisible by 3.\n",
      "2020 is not divisible by 3.\n",
      "1234 is not divisible by 3.\n",
      "76886 is not divisible by 3.\n"
     ]
    }
   ],
   "source": [
    "# Q6. Create a list containing 25 int type data. Using for loop and if-else condition print if the element is\n",
    "#     divisible by 3 or not.\n",
    "\n",
    "List = [2,5,7,11,13,19,23,29,43,47,52,59,69,102,203,594,1469,3012,1125,324,2512,192,2020,1234,76886]\n",
    "\n",
    "for li in List:\n",
    "    if li % 3 == 0:\n",
    "        print('{} is divisible by 3.'.format(li))\n",
    "    else:\n",
    "        print('{} is not divisible by 3.' .format(li))"
   ]
  },
  {
   "cell_type": "code",
   "execution_count": 24,
   "id": "da7a844b",
   "metadata": {},
   "outputs": [
    {
     "ename": "TypeError",
     "evalue": "'str' object does not support item assignment",
     "output_type": "error",
     "traceback": [
      "\u001b[1;31m---------------------------------------------------------------------------\u001b[0m",
      "\u001b[1;31mTypeError\u001b[0m                                 Traceback (most recent call last)",
      "Cell \u001b[1;32mIn[24], line 14\u001b[0m\n\u001b[0;32m     11\u001b[0m ImmutableType \u001b[38;5;241m=\u001b[39m \u001b[38;5;124m'\u001b[39m\u001b[38;5;124mData Science\u001b[39m\u001b[38;5;124m'\u001b[39m\n\u001b[0;32m     12\u001b[0m MutableType \u001b[38;5;241m=\u001b[39m [\u001b[38;5;124m'\u001b[39m\u001b[38;5;124mData\u001b[39m\u001b[38;5;124m'\u001b[39m, \u001b[38;5;124m'\u001b[39m\u001b[38;5;124mScience\u001b[39m\u001b[38;5;124m'\u001b[39m]\n\u001b[1;32m---> 14\u001b[0m ImmutableType[\u001b[38;5;241m1\u001b[39m] \u001b[38;5;241m=\u001b[39m \u001b[38;5;124m'\u001b[39m\u001b[38;5;124mO\u001b[39m\u001b[38;5;124m'\u001b[39m\n\u001b[0;32m     15\u001b[0m MutableType[\u001b[38;5;241m1\u001b[39m] \u001b[38;5;241m=\u001b[39m \u001b[38;5;124m'\u001b[39m\u001b[38;5;124mAnalyst\u001b[39m\u001b[38;5;124m'\u001b[39m\n",
      "\u001b[1;31mTypeError\u001b[0m: 'str' object does not support item assignment"
     ]
    }
   ],
   "source": [
    "# Q7. What do you understand about mutable and immutable data types? Give examples for both showing\n",
    "# this property.\n",
    "\n",
    "\n",
    "# Ans. \n",
    "\"\"\" Immutable data types such as string. Once, created we not modify it, we can ofcourse override the value but \n",
    "    can't change any perticular value.\n",
    "    Mutable data types such as list. Once, we create it we can update any perticular value at any given time.\n",
    "\"\"\"\n",
    "\n",
    "ImmutableType = 'Data Science'\n",
    "MutableType = ['Data', 'Science']\n",
    "\n",
    "ImmutableType[1] = 'O'\n"
   ]
  },
  {
   "cell_type": "code",
   "execution_count": 25,
   "id": "0893a077",
   "metadata": {},
   "outputs": [
    {
     "data": {
      "text/plain": [
       "['Data', 'Analyst']"
      ]
     },
     "execution_count": 25,
     "metadata": {},
     "output_type": "execute_result"
    }
   ],
   "source": [
    "MutableType[1] = 'Analyst'\n",
    "MutableType"
   ]
  },
  {
   "cell_type": "code",
   "execution_count": null,
   "id": "7967b56d",
   "metadata": {},
   "outputs": [],
   "source": []
  }
 ],
 "metadata": {
  "kernelspec": {
   "display_name": "Python 3 (ipykernel)",
   "language": "python",
   "name": "python3"
  },
  "language_info": {
   "codemirror_mode": {
    "name": "ipython",
    "version": 3
   },
   "file_extension": ".py",
   "mimetype": "text/x-python",
   "name": "python",
   "nbconvert_exporter": "python",
   "pygments_lexer": "ipython3",
   "version": "3.10.9"
  }
 },
 "nbformat": 4,
 "nbformat_minor": 5
}
