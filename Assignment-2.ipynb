{
 "cells": [
  {
   "cell_type": "markdown",
   "id": "74bc0c7a",
   "metadata": {},
   "source": [
    "## Assignment - 2"
   ]
  },
  {
   "cell_type": "markdown",
   "id": "141d936e",
   "metadata": {},
   "source": [
    "Q1. How do you comment code in Python? What are the different types of comments?"
   ]
  },
  {
   "cell_type": "code",
   "execution_count": 2,
   "id": "687151c8",
   "metadata": {},
   "outputs": [
    {
     "data": {
      "text/plain": [
       "'\\nThis is multi\\nline\\nComment\\n'"
      ]
     },
     "execution_count": 2,
     "metadata": {},
     "output_type": "execute_result"
    }
   ],
   "source": [
    "##Ans:\n",
    "## This is single line comment\n",
    "\n",
    "\"\"\"\n",
    "This is multi\n",
    "line\n",
    "Comment\n",
    "\"\"\""
   ]
  },
  {
   "cell_type": "markdown",
   "id": "0e73e408",
   "metadata": {},
   "source": [
    "Q2. What are variables in Python? How do you declare and assign values to variables?"
   ]
  },
  {
   "cell_type": "markdown",
   "id": "02eb0b85",
   "metadata": {},
   "source": [
    "Ans: Variables hold values and we can access that value by calling that particular variable.\n",
    "\n",
    "In python, we just need to declare any variable by allowed naming convention and then = value. The python interpreter will dynamically figure it out the data type of that variable.\n",
    "\n",
    "e.g Integer_variable = 11\n",
    "    Float_variable = 1.24\n",
    "    String_variable = 'Yash Patel'\n"
   ]
  },
  {
   "cell_type": "markdown",
   "id": "0b0b328a",
   "metadata": {},
   "source": [
    "Q3. How do you convert one data type to another in Python?"
   ]
  },
  {
   "cell_type": "markdown",
   "id": "c4590c7e",
   "metadata": {},
   "source": [
    "Ans: One need to use built-in function, to convert one data type into another. \n",
    "     e.g : a = 12\n",
    "     float(a) will give us the output in 12.0\n"
   ]
  },
  {
   "cell_type": "code",
   "execution_count": 4,
   "id": "c29e14bf",
   "metadata": {},
   "outputs": [
    {
     "data": {
      "text/plain": [
       "12"
      ]
     },
     "execution_count": 4,
     "metadata": {},
     "output_type": "execute_result"
    }
   ],
   "source": [
    "a = 12\n",
    "a"
   ]
  },
  {
   "cell_type": "code",
   "execution_count": 5,
   "id": "cee659ec",
   "metadata": {},
   "outputs": [
    {
     "data": {
      "text/plain": [
       "12.0"
      ]
     },
     "execution_count": 5,
     "metadata": {},
     "output_type": "execute_result"
    }
   ],
   "source": [
    "float(a)"
   ]
  },
  {
   "cell_type": "markdown",
   "id": "9c69c4ca",
   "metadata": {},
   "source": [
    "Q4. How do you write and execute a Python script from the command line?\n",
    "\n",
    "\n",
    "Ans: To write python code in command line, we first need to tell the cmd that we will use cmd for python scripting. we need to \n",
    "     tell cmd python3, and it will open python interpreter in cmd.\n",
    "     \n",
    "     To execute python script from cmd we need to pass python3 file.py and it will run the file.py from cmd."
   ]
  },
  {
   "cell_type": "markdown",
   "id": "9eb1f637",
   "metadata": {},
   "source": [
    "Q5. Given a list my_list = [1, 2, 3, 4, 5], write the code to slice the list and obtain the sub-list [2, 3]."
   ]
  },
  {
   "cell_type": "code",
   "execution_count": 6,
   "id": "368fb81c",
   "metadata": {},
   "outputs": [
    {
     "data": {
      "text/plain": [
       "[2, 3]"
      ]
     },
     "execution_count": 6,
     "metadata": {},
     "output_type": "execute_result"
    }
   ],
   "source": [
    "my_list = [1,2,3,4,5]\n",
    "sub_list = my_list[1:3]\n",
    "sub_list"
   ]
  },
  {
   "cell_type": "markdown",
   "id": "c592150d",
   "metadata": {},
   "source": [
    "Q6. What is a complex number in mathematics, and how is it represented in Python?\n",
    "\n",
    "\n",
    "\n",
    "Ans: Complex numbers are in 2 part. One is real part and one is imaginary part.\n",
    "It is represented using x +jy format; where x is real part and y is imaginary part."
   ]
  },
  {
   "cell_type": "code",
   "execution_count": 8,
   "id": "b111abb7",
   "metadata": {},
   "outputs": [
    {
     "data": {
      "text/plain": [
       "(5+4j)"
      ]
     },
     "execution_count": 8,
     "metadata": {},
     "output_type": "execute_result"
    }
   ],
   "source": [
    "complex_num = 5 + 4j\n",
    "complex_num"
   ]
  },
  {
   "cell_type": "code",
   "execution_count": 10,
   "id": "306ed603",
   "metadata": {},
   "outputs": [
    {
     "data": {
      "text/plain": [
       "5.0"
      ]
     },
     "execution_count": 10,
     "metadata": {},
     "output_type": "execute_result"
    }
   ],
   "source": [
    "complex_num.real"
   ]
  },
  {
   "cell_type": "code",
   "execution_count": 15,
   "id": "15ec1ff5",
   "metadata": {},
   "outputs": [
    {
     "data": {
      "text/plain": [
       "4.0"
      ]
     },
     "execution_count": 15,
     "metadata": {},
     "output_type": "execute_result"
    }
   ],
   "source": [
    "complex_num.imag"
   ]
  },
  {
   "cell_type": "markdown",
   "id": "c5ec1e1f",
   "metadata": {},
   "source": [
    "Q7. What is the correct way to declare a variable named age and assign the value 25 to it?\n",
    "\n",
    "\n",
    "Ans: correct way is, age = 25, Age = 25, AGE = 25, aGE = 25"
   ]
  },
  {
   "cell_type": "code",
   "execution_count": 16,
   "id": "0d023b48",
   "metadata": {},
   "outputs": [
    {
     "data": {
      "text/plain": [
       "25"
      ]
     },
     "execution_count": 16,
     "metadata": {},
     "output_type": "execute_result"
    }
   ],
   "source": [
    "age = 25\n",
    "age"
   ]
  },
  {
   "cell_type": "markdown",
   "id": "b08e39a7",
   "metadata": {},
   "source": [
    "Q8. Declare a variable named price and assign the value 9.99 to it. What data type does this variable\n",
    "belong to?"
   ]
  },
  {
   "cell_type": "code",
   "execution_count": 17,
   "id": "d911e1c7",
   "metadata": {},
   "outputs": [
    {
     "data": {
      "text/plain": [
       "float"
      ]
     },
     "execution_count": 17,
     "metadata": {},
     "output_type": "execute_result"
    }
   ],
   "source": [
    "price = 9.99\n",
    "type(price)"
   ]
  },
  {
   "cell_type": "markdown",
   "id": "b8defef1",
   "metadata": {},
   "source": [
    "Q9. Create a variable named name and assign your full name to it as a string. How would you print the\n",
    "value of this variable?"
   ]
  },
  {
   "cell_type": "code",
   "execution_count": 18,
   "id": "28c7725f",
   "metadata": {},
   "outputs": [
    {
     "data": {
      "text/plain": [
       "'Yash Patel'"
      ]
     },
     "execution_count": 18,
     "metadata": {},
     "output_type": "execute_result"
    }
   ],
   "source": [
    "name = 'Yash Patel'\n",
    "name"
   ]
  },
  {
   "cell_type": "markdown",
   "id": "ea940131",
   "metadata": {},
   "source": [
    "Q10. Given the string \"Hello, World!\", extract the substring \"World\"."
   ]
  },
  {
   "cell_type": "code",
   "execution_count": 19,
   "id": "7870c2d4",
   "metadata": {},
   "outputs": [
    {
     "data": {
      "text/plain": [
       "'World'"
      ]
     },
     "execution_count": 19,
     "metadata": {},
     "output_type": "execute_result"
    }
   ],
   "source": [
    "string_var = 'Hello, World!'\n",
    "string_var[7:12]"
   ]
  },
  {
   "cell_type": "markdown",
   "id": "cdf24b6c",
   "metadata": {},
   "source": [
    "Q11. Create a variable named \"is_student\" and assign it a boolean value indicating whether you are\n",
    "currently a student or not."
   ]
  },
  {
   "cell_type": "code",
   "execution_count": 21,
   "id": "aa642f17",
   "metadata": {},
   "outputs": [
    {
     "data": {
      "text/plain": [
       "True"
      ]
     },
     "execution_count": 21,
     "metadata": {},
     "output_type": "execute_result"
    }
   ],
   "source": [
    "is_student = True\n",
    "is_student"
   ]
  },
  {
   "cell_type": "code",
   "execution_count": null,
   "id": "894d8ace",
   "metadata": {},
   "outputs": [],
   "source": []
  }
 ],
 "metadata": {
  "kernelspec": {
   "display_name": "Python 3 (ipykernel)",
   "language": "python",
   "name": "python3"
  },
  "language_info": {
   "codemirror_mode": {
    "name": "ipython",
    "version": 3
   },
   "file_extension": ".py",
   "mimetype": "text/x-python",
   "name": "python",
   "nbconvert_exporter": "python",
   "pygments_lexer": "ipython3",
   "version": "3.10.9"
  }
 },
 "nbformat": 4,
 "nbformat_minor": 5
}
