{
 "cells": [
  {
   "cell_type": "markdown",
   "id": "78344d41",
   "metadata": {},
   "source": [
    "## Q1. Create a python program to sort the given list of tuples based on integer value using a\n",
    "lambda function.\n",
    "\n",
    "[('Sachin Tendulkar', 34357), ('Ricky Ponting', 27483), ('Jack Kallis', 25534), ('Virat Kohli', 24936)]"
   ]
  },
  {
   "cell_type": "code",
   "execution_count": 1,
   "id": "bf70783e",
   "metadata": {},
   "outputs": [],
   "source": [
    "li = [('Sachin Tendulkar', 34357),\n",
    "      ('Ricky Ponting', 27483),\n",
    "      ('Jack Kallis', 25534),\n",
    "      ('Virat Kohli', 24936)]"
   ]
  },
  {
   "cell_type": "code",
   "execution_count": 2,
   "id": "ecad46a7",
   "metadata": {},
   "outputs": [
    {
     "name": "stdout",
     "output_type": "stream",
     "text": [
      "[('Virat Kohli', 24936), ('Jack Kallis', 25534), ('Ricky Ponting', 27483), ('Sachin Tendulkar', 34357)]\n"
     ]
    }
   ],
   "source": [
    "new_ls = sorted(li, key = lambda l : l[1])\n",
    "print(new_ls)"
   ]
  },
  {
   "cell_type": "markdown",
   "id": "554b3e08",
   "metadata": {},
   "source": [
    "here sorted() takes first li as input to be sorted, then key is parameter on which we would like to \n",
    "sort the the data(li). here we are taking lambda function (no-name function) now first l is tuple \n",
    "to get the integer part of that tuple as an output of lambda function we are taking l[1] it will give us\n",
    "numeric value for the key and the list will get sorted and stored in new_ls"
   ]
  },
  {
   "cell_type": "markdown",
   "id": "096b10d0",
   "metadata": {},
   "source": [
    "## Q2. Write a Python Program to find the squares of all the numbers in the given list of integers using\n",
    "lambda and map functions.\n",
    "\n",
    "\n",
    "[1, 2, 3, 4, 5, 6, 7, 8, 9, 10]"
   ]
  },
  {
   "cell_type": "code",
   "execution_count": 3,
   "id": "4122a5ac",
   "metadata": {},
   "outputs": [
    {
     "data": {
      "text/plain": [
       "[1, 4, 9, 16, 25, 36, 49, 64, 81, 100]"
      ]
     },
     "execution_count": 3,
     "metadata": {},
     "output_type": "execute_result"
    }
   ],
   "source": [
    "li = [1,2,3,4,5,6,7,8,9,10]\n",
    "sqr = lambda x: x**2\n",
    "list(map(sqr,li))"
   ]
  },
  {
   "cell_type": "markdown",
   "id": "dd7c9f2d",
   "metadata": {},
   "source": [
    "here we have a list called li. I have created one lambda function which returns the square of a given number and assign that to sqr. \n",
    "\n",
    "map() function takes 2 arguments, first being the funtion, and second is iterable thing list/tuple/string. map() function will apply the specified function, here it is sqr function to each and every element of iterable, in our case it is list called li. "
   ]
  },
  {
   "cell_type": "markdown",
   "id": "f17529b3",
   "metadata": {},
   "source": [
    "## Q3. Write a python program to convert the given list of integers into a tuple of strings. Use map and lambda functions\n",
    "\n",
    "Given String: [1, 2, 3, 4, 5, 6, 7, 8, 9, 10]\n",
    "\n",
    "Expected output: ('1', '2', '3', '4', '5', '6', '7', '8', '9', '10')"
   ]
  },
  {
   "cell_type": "code",
   "execution_count": 5,
   "id": "16555206",
   "metadata": {},
   "outputs": [
    {
     "data": {
      "text/plain": [
       "('1', '2', '3', '4', '5', '6', '7', '8', '9', '10')"
      ]
     },
     "execution_count": 5,
     "metadata": {},
     "output_type": "execute_result"
    }
   ],
   "source": [
    "li = [1,2,3,4,5,6,7,8,9,10]\n",
    "\n",
    "tuple(map(lambda x: str(x), li))"
   ]
  },
  {
   "cell_type": "markdown",
   "id": "827c7196",
   "metadata": {},
   "source": [
    "Here I am given a list named li. Now I need to convert this list to tuple of string using map and lambda function.\n",
    "\n",
    "lambda x: str(x) will convert the any type (here int) to string type.\n",
    "\n",
    "map function will map the function to the given list on each and every item that is present in the list.\n",
    "\n",
    "tuple() will hold the string objects to disply."
   ]
  },
  {
   "cell_type": "markdown",
   "id": "7a835916",
   "metadata": {},
   "source": [
    "## Q4. Write a python program using reduce function to compute the product of a list containing numbers from 1 to 25."
   ]
  },
  {
   "cell_type": "code",
   "execution_count": 6,
   "id": "e86a6302",
   "metadata": {},
   "outputs": [
    {
     "name": "stdout",
     "output_type": "stream",
     "text": [
      "15511210043330985984000000\n"
     ]
    }
   ],
   "source": [
    "from functools import reduce\n",
    "li = [x for x in range(1,26)]\n",
    "\n",
    "a=reduce(lambda x,y : x*y, li)\n",
    "print(a)"
   ]
  },
  {
   "cell_type": "code",
   "execution_count": 9,
   "id": "d3cd9093",
   "metadata": {},
   "outputs": [
    {
     "data": {
      "text/plain": [
       "15511210043330985984000000"
      ]
     },
     "execution_count": 9,
     "metadata": {},
     "output_type": "execute_result"
    }
   ],
   "source": [
    "import math\n",
    "math.factorial(25)"
   ]
  },
  {
   "cell_type": "markdown",
   "id": "0a6ef761",
   "metadata": {},
   "source": [
    "Here firstly I am importing the reduce module from functools library.\n",
    "\n",
    "I ve created a list called li.\n",
    "\n",
    "Now reduce function will reduce the iteration. first it takes 2 arguments for 2 variables and not for 3 variable operations.\n",
    "\n",
    "\n",
    "Now lambda function will give us the product of x & y.Both x and y will be taken from li.\n",
    "\n",
    "here, initially,\n",
    "x = 1, y = 2 :- 2 (output from product) using lambda function\n",
    "x = 2(output of first iteration), y = 3 :- 6 (output from product) using lambda function\n",
    "x = 6(output of second iteration), y = 4 :- 24....\n",
    "x = 24, y = 5 :- 120...\n",
    "\n",
    "it will last till final output then it will assign to the variable a."
   ]
  },
  {
   "cell_type": "markdown",
   "id": "ce1f0b21",
   "metadata": {},
   "source": [
    "## Q5. Write a python program to filter the numbers in a given list that are divisible by 2 and 3 using the filter function.\n",
    "\n",
    "[2, 3, 6, 9, 27, 60, 90, 120, 55, 46]"
   ]
  },
  {
   "cell_type": "code",
   "execution_count": 16,
   "id": "8d854fa3",
   "metadata": {},
   "outputs": [],
   "source": [
    "li = [2,3,6,9,27,60,90,120,55,46]"
   ]
  },
  {
   "cell_type": "code",
   "execution_count": 17,
   "id": "65db5494",
   "metadata": {},
   "outputs": [
    {
     "data": {
      "text/plain": [
       "[2, 3, 6, 9, 27, 60, 90, 120, 46]"
      ]
     },
     "execution_count": 17,
     "metadata": {},
     "output_type": "execute_result"
    }
   ],
   "source": [
    "list(filter(lambda x: x if x%2==0 else x%3==0,li))"
   ]
  },
  {
   "cell_type": "markdown",
   "id": "bb84127c",
   "metadata": {},
   "source": [
    "## Q6. Write a python program to find palindromes in the given list of strings using lambda and filter function.\n",
    "\n",
    "['python', 'php', 'aba', 'radar', 'level']"
   ]
  },
  {
   "cell_type": "code",
   "execution_count": 18,
   "id": "2af03663",
   "metadata": {},
   "outputs": [],
   "source": [
    "li = ['python', 'php', 'aba', 'radar', 'level']"
   ]
  },
  {
   "cell_type": "code",
   "execution_count": 20,
   "id": "0de55e42",
   "metadata": {},
   "outputs": [
    {
     "data": {
      "text/plain": [
       "['php', 'aba', 'radar', 'level']"
      ]
     },
     "execution_count": 20,
     "metadata": {},
     "output_type": "execute_result"
    }
   ],
   "source": [
    "list(filter(lambda x : x if x == x[::-1] else '',li))"
   ]
  },
  {
   "cell_type": "markdown",
   "id": "0dc35186",
   "metadata": {},
   "source": [
    "Here list is given.\n",
    "\n",
    "first lambda function will give us output is x == x[::-1] is true. which is checking if the reverse string is the same as the original.\n",
    "\n",
    "filter function will apply this lambda function on each and every element of li."
   ]
  },
  {
   "cell_type": "code",
   "execution_count": null,
   "id": "f548b581",
   "metadata": {},
   "outputs": [],
   "source": []
  }
 ],
 "metadata": {
  "kernelspec": {
   "display_name": "Python 3 (ipykernel)",
   "language": "python",
   "name": "python3"
  },
  "language_info": {
   "codemirror_mode": {
    "name": "ipython",
    "version": 3
   },
   "file_extension": ".py",
   "mimetype": "text/x-python",
   "name": "python",
   "nbconvert_exporter": "python",
   "pygments_lexer": "ipython3",
   "version": "3.10.9"
  }
 },
 "nbformat": 4,
 "nbformat_minor": 5
}
