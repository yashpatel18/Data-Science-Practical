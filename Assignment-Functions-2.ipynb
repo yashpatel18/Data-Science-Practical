{
 "cells": [
  {
   "cell_type": "markdown",
   "id": "b53b51c2",
   "metadata": {},
   "source": [
    "## Q1. Which keyword is used to create a function? Create a function to return a list of odd numbers in the range of 1 to 25."
   ]
  },
  {
   "cell_type": "markdown",
   "id": "89e757e7",
   "metadata": {},
   "source": [
    "Ans.\n",
    "\n",
    "def keyword is used to create a function."
   ]
  },
  {
   "cell_type": "code",
   "execution_count": 1,
   "id": "3015db74",
   "metadata": {},
   "outputs": [],
   "source": [
    "def odd_num(fun_list):\n",
    "    odd_list = []\n",
    "    for num in fun_list:\n",
    "        if num%2 == 0:\n",
    "            pass\n",
    "        else:\n",
    "            odd_list.append(num)\n",
    "    return odd_list"
   ]
  },
  {
   "cell_type": "code",
   "execution_count": 2,
   "id": "430fcfb8",
   "metadata": {},
   "outputs": [],
   "source": [
    "li = [x for x in range(1,26)]"
   ]
  },
  {
   "cell_type": "code",
   "execution_count": 3,
   "id": "ae55b6d7",
   "metadata": {},
   "outputs": [
    {
     "data": {
      "text/plain": [
       "[1, 3, 5, 7, 9, 11, 13, 15, 17, 19, 21, 23, 25]"
      ]
     },
     "execution_count": 3,
     "metadata": {},
     "output_type": "execute_result"
    }
   ],
   "source": [
    "odd_num(li)"
   ]
  },
  {
   "cell_type": "markdown",
   "id": "6a240b15",
   "metadata": {},
   "source": [
    "## Q2. Why *args and **kwargs is used in some functions? Create a function each for *args and **kwargs to demonstrate their use."
   ]
  },
  {
   "cell_type": "code",
   "execution_count": 4,
   "id": "c60dfbd1",
   "metadata": {},
   "outputs": [],
   "source": [
    "def add(*args):\n",
    "    return sum(args)"
   ]
  },
  {
   "cell_type": "code",
   "execution_count": 5,
   "id": "a32fb72d",
   "metadata": {},
   "outputs": [
    {
     "data": {
      "text/plain": [
       "3"
      ]
     },
     "execution_count": 5,
     "metadata": {},
     "output_type": "execute_result"
    }
   ],
   "source": [
    "add(1,2)"
   ]
  },
  {
   "cell_type": "code",
   "execution_count": 6,
   "id": "1b8c9ec6",
   "metadata": {},
   "outputs": [
    {
     "data": {
      "text/plain": [
       "10"
      ]
     },
     "execution_count": 6,
     "metadata": {},
     "output_type": "execute_result"
    }
   ],
   "source": [
    "add(1,2,3,4)"
   ]
  },
  {
   "cell_type": "markdown",
   "id": "0439b6db",
   "metadata": {},
   "source": [
    "*args is used in function when we don't know the exact number of parameter a function is going to take. \n",
    "\n",
    "It is like we want to perform a certain simple or complex function on n number of parameters. at that time *args comes into picture."
   ]
  },
  {
   "cell_type": "code",
   "execution_count": 1,
   "id": "5de61af6",
   "metadata": {},
   "outputs": [],
   "source": [
    "def dictionary_sum(**kwargs):\n",
    "    \n",
    "    return sum(kwargs.values())"
   ]
  },
  {
   "cell_type": "code",
   "execution_count": 2,
   "id": "06c50448",
   "metadata": {},
   "outputs": [
    {
     "data": {
      "text/plain": [
       "3"
      ]
     },
     "execution_count": 2,
     "metadata": {},
     "output_type": "execute_result"
    }
   ],
   "source": [
    "dictionary_sum(a=1,b=2)"
   ]
  },
  {
   "cell_type": "code",
   "execution_count": 4,
   "id": "37be5588",
   "metadata": {},
   "outputs": [
    {
     "data": {
      "text/plain": [
       "10"
      ]
     },
     "execution_count": 4,
     "metadata": {},
     "output_type": "execute_result"
    }
   ],
   "source": [
    "dictionary_sum(a=1,b=2,c=3,d=4)"
   ]
  },
  {
   "cell_type": "markdown",
   "id": "1b473edc",
   "metadata": {},
   "source": [
    "**kwargs is used in a function when we want to perform certain operation on n number dictionary just like above example."
   ]
  },
  {
   "cell_type": "markdown",
   "id": "74290c1b",
   "metadata": {},
   "source": [
    "## Q3. What is an iterator in python? Name the method used to initialise the iterator object and the method used for iteration. Use these methods to print the first five elements of the given list.\n",
    "\n",
    "[2, 4, 6, 8, 10, 12, 14, 16, 18, 20]."
   ]
  },
  {
   "cell_type": "markdown",
   "id": "86297f95",
   "metadata": {},
   "source": [
    "Ans:\n",
    "\n",
    "Iterator is something which we can take one value at a time. Iterator could be a list, tuple, string, dictionary, set.\n",
    "\n",
    "we use range function as a iterator. and to access this iterator step by step or value by value we use loops."
   ]
  },
  {
   "cell_type": "code",
   "execution_count": 5,
   "id": "e7b85a83",
   "metadata": {},
   "outputs": [
    {
     "name": "stdout",
     "output_type": "stream",
     "text": [
      "2\n",
      "4\n",
      "6\n",
      "8\n",
      "10\n"
     ]
    }
   ],
   "source": [
    "li = [2, 4, 6, 8, 10, 12, 14, 16, 18, 20]\n",
    "\n",
    "for i in range(5):\n",
    "    print(li[i])"
   ]
  },
  {
   "cell_type": "markdown",
   "id": "f938aee7",
   "metadata": {},
   "source": [
    "## Q4. What is a generator function in python? Why yield keyword is used? Give an example of a generator function."
   ]
  },
  {
   "cell_type": "markdown",
   "id": "06c1c8cd",
   "metadata": {},
   "source": [
    "Ans.\n",
    "\n",
    "Generator function generates squence of output just like a range function. it gives us the range to iterate through. the function doesn't hold all the values that it is going to generate rather it will only store the current value. \n",
    "Often functions returns some value , here in generator function doesn't return anything but it will yield it means it will hold the newest value and will present it to the end user."
   ]
  },
  {
   "cell_type": "code",
   "execution_count": 14,
   "id": "7dc08b75",
   "metadata": {},
   "outputs": [],
   "source": [
    "def myfunc(l):\n",
    "    for i in range(len(l)-1):\n",
    "        a = l[i]\n",
    "        b = l[i+1]\n",
    "        yield a*b"
   ]
  },
  {
   "cell_type": "code",
   "execution_count": 15,
   "id": "89cf983c",
   "metadata": {},
   "outputs": [
    {
     "data": {
      "text/plain": [
       "<generator object myfunc at 0x000002D41D3CB0D0>"
      ]
     },
     "execution_count": 15,
     "metadata": {},
     "output_type": "execute_result"
    }
   ],
   "source": [
    "myfunc(li)"
   ]
  },
  {
   "cell_type": "code",
   "execution_count": 16,
   "id": "7f68b6f4",
   "metadata": {},
   "outputs": [
    {
     "name": "stdout",
     "output_type": "stream",
     "text": [
      "2\n",
      "6\n",
      "12\n",
      "20\n"
     ]
    }
   ],
   "source": [
    "li = [1,2,3,4,5]\n",
    "a = myfunc(li)\n",
    "for num in a:\n",
    "    print(num)"
   ]
  },
  {
   "cell_type": "markdown",
   "id": "07cbbcb1",
   "metadata": {},
   "source": [
    "## Q5. Create a generator function for prime numbers less than 1000. Use the next() method to print the first 20 prime numbers."
   ]
  },
  {
   "cell_type": "code",
   "execution_count": 1,
   "id": "0f41cdf3",
   "metadata": {},
   "outputs": [],
   "source": [
    "def prime_num(l):\n",
    "    for num in l:\n",
    "        cnt = 0\n",
    "        for i in range(1,num+1):\n",
    "            if num%i==0:\n",
    "                cnt +=1\n",
    "        if cnt == 2:\n",
    "            yield num"
   ]
  },
  {
   "cell_type": "code",
   "execution_count": 3,
   "id": "5d847c72",
   "metadata": {},
   "outputs": [
    {
     "name": "stdout",
     "output_type": "stream",
     "text": [
      "2\n",
      "3\n",
      "5\n",
      "7\n",
      "11\n",
      "13\n",
      "17\n",
      "19\n",
      "23\n",
      "29\n",
      "31\n",
      "37\n",
      "41\n",
      "43\n",
      "47\n",
      "53\n",
      "59\n",
      "61\n",
      "67\n",
      "71\n"
     ]
    }
   ],
   "source": [
    "li = [x for x in range(1,1001)]\n",
    "\n",
    "a = prime_num(li)\n",
    "\n",
    "for i in range(20):\n",
    "    print(next(a))"
   ]
  },
  {
   "cell_type": "code",
   "execution_count": null,
   "id": "c2bc7f6d",
   "metadata": {},
   "outputs": [],
   "source": []
  },
  {
   "cell_type": "code",
   "execution_count": null,
   "id": "de949570",
   "metadata": {},
   "outputs": [],
   "source": []
  }
 ],
 "metadata": {
  "kernelspec": {
   "display_name": "Python 3 (ipykernel)",
   "language": "python",
   "name": "python3"
  },
  "language_info": {
   "codemirror_mode": {
    "name": "ipython",
    "version": 3
   },
   "file_extension": ".py",
   "mimetype": "text/x-python",
   "name": "python",
   "nbconvert_exporter": "python",
   "pygments_lexer": "ipython3",
   "version": "3.10.9"
  }
 },
 "nbformat": 4,
 "nbformat_minor": 5
}
