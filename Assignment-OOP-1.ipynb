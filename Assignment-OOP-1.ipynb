{
 "cells": [
  {
   "cell_type": "markdown",
   "id": "5c1a65d5",
   "metadata": {},
   "source": [
    "## Q1. Explain Class and Object with respect to Object-Oriented Programming. Give a suitable example."
   ]
  },
  {
   "cell_type": "markdown",
   "id": "454fe2d8",
   "metadata": {},
   "source": [
    "Ans: \n",
    "\n",
    "Class is nothing but a blueprint of any building block. It is like a structure plan to make different types of buildings using the blue print with some common functionality.\n",
    "\n",
    "Objects are the buildings which we make using the blueprint."
   ]
  },
  {
   "cell_type": "code",
   "execution_count": 3,
   "id": "fc5d3a52",
   "metadata": {},
   "outputs": [],
   "source": [
    "## Example of class and the objects of the same class.\n",
    "\n",
    "class Human:\n",
    "    \n",
    "    def __init__(self, name, age, occupation):\n",
    "        self.name = name\n",
    "        self.age = age\n",
    "        self.occupation = occupation\n",
    "    def getter(self):\n",
    "        print(f'My name is {self.name}. I am {self.age} years old. I work as a {self.occupation}')"
   ]
  },
  {
   "cell_type": "code",
   "execution_count": 4,
   "id": "7886a66c",
   "metadata": {},
   "outputs": [],
   "source": [
    "h1 = Human('Yash', 23, 'Data Scientist')\n",
    "h2 = Human('Shiv', 26, 'Quality control Officer')"
   ]
  },
  {
   "cell_type": "code",
   "execution_count": 5,
   "id": "f657ea56",
   "metadata": {},
   "outputs": [
    {
     "name": "stdout",
     "output_type": "stream",
     "text": [
      "My name is Yash. I am 23 years old. I work as a Data Scientist\n"
     ]
    }
   ],
   "source": [
    "h1.getter()"
   ]
  },
  {
   "cell_type": "code",
   "execution_count": 6,
   "id": "1d43f209",
   "metadata": {},
   "outputs": [
    {
     "name": "stdout",
     "output_type": "stream",
     "text": [
      "My name is Shiv. I am 26 years old. I work as a Quality control Officer\n"
     ]
    }
   ],
   "source": [
    "h2.getter()"
   ]
  },
  {
   "cell_type": "markdown",
   "id": "be55e46b",
   "metadata": {},
   "source": [
    "## Q2. Name the four pillars of OOPs."
   ]
  },
  {
   "cell_type": "markdown",
   "id": "52fb481f",
   "metadata": {},
   "source": [
    "Ans:\n",
    "1. Polymorphism\n",
    "2. Encapsulation\n",
    "3. Abstraction\n",
    "4. Inheritance"
   ]
  },
  {
   "cell_type": "markdown",
   "id": "6fb5de30",
   "metadata": {},
   "source": [
    "## Q3. Explain why the __init__() function is used. Give a suitable example."
   ]
  },
  {
   "cell_type": "markdown",
   "id": "6bdbd457",
   "metadata": {},
   "source": [
    "Ans:\n",
    "\n",
    "we use __init__() function to initialize the object which we are creating with certain attributes. It is also reffered as cunstructor."
   ]
  },
  {
   "cell_type": "code",
   "execution_count": 7,
   "id": "0b819686",
   "metadata": {},
   "outputs": [],
   "source": [
    "class car:\n",
    "    \n",
    "    def __init__(self, make, model, year, milage = 0):\n",
    "        self.make = make\n",
    "        self.model = model\n",
    "        self.year = year\n",
    "        self.milage = milage\n",
    "    \n",
    "    def get_info(self):\n",
    "        \n",
    "        obj = [self.make, self.model, self.year, self.milage]\n",
    "        return obj"
   ]
  },
  {
   "cell_type": "code",
   "execution_count": 8,
   "id": "621f6014",
   "metadata": {},
   "outputs": [],
   "source": [
    "car1 = car('Mercedes-benz','G-Wagon', 2022, 4)\n",
    "car2 = car('BMW', 'X7', 2023)"
   ]
  },
  {
   "cell_type": "code",
   "execution_count": 9,
   "id": "c4c97090",
   "metadata": {},
   "outputs": [
    {
     "data": {
      "text/plain": [
       "['Mercedes-benz', 'G-Wagon', 2022, 4]"
      ]
     },
     "execution_count": 9,
     "metadata": {},
     "output_type": "execute_result"
    }
   ],
   "source": [
    "car1.get_info()"
   ]
  },
  {
   "cell_type": "code",
   "execution_count": 10,
   "id": "22a11599",
   "metadata": {},
   "outputs": [
    {
     "data": {
      "text/plain": [
       "['BMW', 'X7', 2023, 0]"
      ]
     },
     "execution_count": 10,
     "metadata": {},
     "output_type": "execute_result"
    }
   ],
   "source": [
    "car2.get_info()"
   ]
  },
  {
   "cell_type": "markdown",
   "id": "70c4e9af",
   "metadata": {},
   "source": [
    "## Q4. Why self is used in OOPs?"
   ]
  },
  {
   "cell_type": "markdown",
   "id": "fb0b1746",
   "metadata": {},
   "source": [
    " Ans:\n",
    " \n",
    " self is nothing but a pointer which points to the current object of any perticular class. Though we can use any word which is not a reserved word as a reference pointer. However, it is a commom practice to use self as a pointer."
   ]
  },
  {
   "cell_type": "markdown",
   "id": "e19e9ae9",
   "metadata": {},
   "source": [
    "## Q5. What is inheritance? Give an example for each type of inheritance."
   ]
  },
  {
   "cell_type": "markdown",
   "id": "7d9aa91e",
   "metadata": {},
   "source": [
    " Ans:\n",
    "1. Single inheritance\n",
    "2. Multiple inheritance\n",
    "3. Multilevel inheritance\n",
    "4. Hierarchical inheritance\n",
    "5. Hybrid inheritance"
   ]
  },
  {
   "cell_type": "code",
   "execution_count": 6,
   "id": "b9696dde",
   "metadata": {},
   "outputs": [],
   "source": [
    "## Single Inheritance\n",
    "\n",
    "class parent:\n",
    "    \n",
    "    def __init__(self,father,mother):\n",
    "        self.father = father\n",
    "        self.mother = mother\n",
    "    \n",
    "    def get_details(self):\n",
    "        \n",
    "        return 'Parents details'\n",
    "    \n",
    "    \n",
    "class child(parent):\n",
    "    \n",
    "    def __init__(self, name):\n",
    "        self.name = name\n",
    "        \n",
    "    def get_detail(self):\n",
    "        \n",
    "        return self.name"
   ]
  },
  {
   "cell_type": "code",
   "execution_count": 7,
   "id": "bfa0aafd",
   "metadata": {},
   "outputs": [],
   "source": [
    "parents= parent('Ashokbhai', 'Nayanaben')\n",
    "child1 = child('Shiv')"
   ]
  },
  {
   "cell_type": "code",
   "execution_count": 8,
   "id": "dce81869",
   "metadata": {},
   "outputs": [
    {
     "data": {
      "text/plain": [
       "'Parents details'"
      ]
     },
     "execution_count": 8,
     "metadata": {},
     "output_type": "execute_result"
    }
   ],
   "source": [
    "parents.get_details()"
   ]
  },
  {
   "cell_type": "code",
   "execution_count": 9,
   "id": "0a4b509b",
   "metadata": {},
   "outputs": [
    {
     "data": {
      "text/plain": [
       "'Shiv'"
      ]
     },
     "execution_count": 9,
     "metadata": {},
     "output_type": "execute_result"
    }
   ],
   "source": [
    "child1.get_detail()"
   ]
  },
  {
   "cell_type": "code",
   "execution_count": 10,
   "id": "f8bcfbae",
   "metadata": {},
   "outputs": [
    {
     "data": {
      "text/plain": [
       "'Parents details'"
      ]
     },
     "execution_count": 10,
     "metadata": {},
     "output_type": "execute_result"
    }
   ],
   "source": [
    "child1.get_details()"
   ]
  },
  {
   "cell_type": "code",
   "execution_count": 11,
   "id": "9d1d762a",
   "metadata": {},
   "outputs": [],
   "source": [
    "## Multiple Inheritance\n",
    "\n",
    "class mother:\n",
    "    def __init__(self,name):\n",
    "        self.name = name\n",
    "        \n",
    "    def get_mother(self):\n",
    "        return 'Mother class'\n",
    "    \n",
    "class father:\n",
    "    def __init__(self, name):\n",
    "        self.name = name\n",
    "        \n",
    "    def get_father(self):\n",
    "        return 'Father class'\n",
    "    \n",
    "class child(mother, father):\n",
    "    def __init__(self, name):\n",
    "        self.name = name\n",
    "        \n",
    "    def get_my_details(self):\n",
    "        return f'My name is {self.name}'"
   ]
  },
  {
   "cell_type": "code",
   "execution_count": 12,
   "id": "3f84e975",
   "metadata": {},
   "outputs": [],
   "source": [
    "m = mother('Nayanaben')\n",
    "f = father('Ashokbhai')\n",
    "y= child('Yash')"
   ]
  },
  {
   "cell_type": "code",
   "execution_count": 13,
   "id": "b8635b3d",
   "metadata": {},
   "outputs": [
    {
     "data": {
      "text/plain": [
       "'Mother class'"
      ]
     },
     "execution_count": 13,
     "metadata": {},
     "output_type": "execute_result"
    }
   ],
   "source": [
    "m.get_mother()"
   ]
  },
  {
   "cell_type": "code",
   "execution_count": 14,
   "id": "00c83ede",
   "metadata": {},
   "outputs": [
    {
     "data": {
      "text/plain": [
       "'Father class'"
      ]
     },
     "execution_count": 14,
     "metadata": {},
     "output_type": "execute_result"
    }
   ],
   "source": [
    "f.get_father()"
   ]
  },
  {
   "cell_type": "code",
   "execution_count": 15,
   "id": "be16143e",
   "metadata": {},
   "outputs": [
    {
     "data": {
      "text/plain": [
       "'Father class'"
      ]
     },
     "execution_count": 15,
     "metadata": {},
     "output_type": "execute_result"
    }
   ],
   "source": [
    "y.get_father()"
   ]
  },
  {
   "cell_type": "code",
   "execution_count": 16,
   "id": "5f448111",
   "metadata": {},
   "outputs": [
    {
     "data": {
      "text/plain": [
       "'Mother class'"
      ]
     },
     "execution_count": 16,
     "metadata": {},
     "output_type": "execute_result"
    }
   ],
   "source": [
    "y.get_mother()"
   ]
  },
  {
   "cell_type": "code",
   "execution_count": 17,
   "id": "2cb3f6ab",
   "metadata": {},
   "outputs": [
    {
     "data": {
      "text/plain": [
       "'My name is Yash'"
      ]
     },
     "execution_count": 17,
     "metadata": {},
     "output_type": "execute_result"
    }
   ],
   "source": [
    "y.get_my_details()"
   ]
  },
  {
   "cell_type": "code",
   "execution_count": 35,
   "id": "4f8f7842",
   "metadata": {},
   "outputs": [],
   "source": [
    "## Multiple inheritance\n",
    "\n",
    "class grandparents:\n",
    "    grandpa = ''\n",
    "    grandma = ''\n",
    "    \n",
    "    def __init__(self, grandpa, grandma):\n",
    "        self.grandpa = grandpa\n",
    "        self.grandma = grandma\n",
    "        \n",
    "    def get_grandparents(self):\n",
    "        return self.grandpa, self.grandma\n",
    "    \n",
    "class parents(grandparents):\n",
    "    father = ''\n",
    "    mother = ''\n",
    "    \n",
    "    def __init__(self, father, mother, grandpa, grandma):\n",
    "        self.father = father\n",
    "        self.mother = mother\n",
    "        super().__init__(grandpa, grandma)\n",
    "    \n",
    "        \n",
    "    def get_parents(self):\n",
    "        return self.father, self.mother\n",
    "    \n",
    "class child(parents):\n",
    "    name = ''\n",
    "    \n",
    "    def __init__(self, name, father, mother, grandpa, grandma):\n",
    "        self.name = name\n",
    "        super().__init__(father, mother, grandpa, grandma)\n",
    "        \n",
    "    def get_mydetails(self):\n",
    "        return self.name"
   ]
  },
  {
   "cell_type": "code",
   "execution_count": 36,
   "id": "34165fec",
   "metadata": {},
   "outputs": [],
   "source": [
    "g = grandparents('Bhailalbhai', 'Vimlaben')\n",
    "p = parents('Ashokbhai', 'Nayanaben', 'Bhailalbhai', 'Vimlaben')\n",
    "y = child('Yash', 'Ashokbhai', 'Nayanaben', 'Bhailalbhai', 'Vimlaben')"
   ]
  },
  {
   "cell_type": "code",
   "execution_count": 37,
   "id": "2e332f13",
   "metadata": {},
   "outputs": [
    {
     "data": {
      "text/plain": [
       "('Bhailalbhai', 'Vimlaben')"
      ]
     },
     "execution_count": 37,
     "metadata": {},
     "output_type": "execute_result"
    }
   ],
   "source": [
    "g.get_grandparents()"
   ]
  },
  {
   "cell_type": "code",
   "execution_count": 38,
   "id": "e5b41193",
   "metadata": {},
   "outputs": [
    {
     "data": {
      "text/plain": [
       "('Bhailalbhai', 'Vimlaben')"
      ]
     },
     "execution_count": 38,
     "metadata": {},
     "output_type": "execute_result"
    }
   ],
   "source": [
    "p.get_grandparents()"
   ]
  },
  {
   "cell_type": "code",
   "execution_count": 39,
   "id": "6dddd8fa",
   "metadata": {},
   "outputs": [
    {
     "data": {
      "text/plain": [
       "('Ashokbhai', 'Nayanaben')"
      ]
     },
     "execution_count": 39,
     "metadata": {},
     "output_type": "execute_result"
    }
   ],
   "source": [
    "p.get_parents()"
   ]
  },
  {
   "cell_type": "code",
   "execution_count": 40,
   "id": "a0953f7b",
   "metadata": {},
   "outputs": [
    {
     "data": {
      "text/plain": [
       "('Bhailalbhai', 'Vimlaben')"
      ]
     },
     "execution_count": 40,
     "metadata": {},
     "output_type": "execute_result"
    }
   ],
   "source": [
    "y.get_grandparents()"
   ]
  },
  {
   "cell_type": "code",
   "execution_count": 41,
   "id": "0cac7db7",
   "metadata": {},
   "outputs": [
    {
     "data": {
      "text/plain": [
       "('Ashokbhai', 'Nayanaben')"
      ]
     },
     "execution_count": 41,
     "metadata": {},
     "output_type": "execute_result"
    }
   ],
   "source": [
    "y.get_parents()"
   ]
  },
  {
   "cell_type": "code",
   "execution_count": 42,
   "id": "141adfba",
   "metadata": {},
   "outputs": [
    {
     "data": {
      "text/plain": [
       "'Yash'"
      ]
     },
     "execution_count": 42,
     "metadata": {},
     "output_type": "execute_result"
    }
   ],
   "source": [
    "y.get_mydetails()"
   ]
  },
  {
   "cell_type": "code",
   "execution_count": null,
   "id": "1b677961",
   "metadata": {},
   "outputs": [],
   "source": [
    "f"
   ]
  },
  {
   "cell_type": "code",
   "execution_count": null,
   "id": "e059d107",
   "metadata": {},
   "outputs": [],
   "source": []
  },
  {
   "cell_type": "code",
   "execution_count": null,
   "id": "e0a99604",
   "metadata": {},
   "outputs": [],
   "source": []
  }
 ],
 "metadata": {
  "kernelspec": {
   "display_name": "Python 3 (ipykernel)",
   "language": "python",
   "name": "python3"
  },
  "language_info": {
   "codemirror_mode": {
    "name": "ipython",
    "version": 3
   },
   "file_extension": ".py",
   "mimetype": "text/x-python",
   "name": "python",
   "nbconvert_exporter": "python",
   "pygments_lexer": "ipython3",
   "version": "3.10.9"
  }
 },
 "nbformat": 4,
 "nbformat_minor": 5
}
