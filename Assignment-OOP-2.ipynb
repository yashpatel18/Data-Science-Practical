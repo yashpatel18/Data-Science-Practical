{
 "cells": [
  {
   "cell_type": "markdown",
   "id": "8e43e642",
   "metadata": {},
   "source": [
    "## Q1, Create a vehicle class with an init method having instance variables as name_of_vehicle, max_speed and average_of_vehicle."
   ]
  },
  {
   "cell_type": "code",
   "execution_count": 1,
   "id": "b6cd5259",
   "metadata": {},
   "outputs": [],
   "source": [
    "class vehicle:\n",
    "    \n",
    "    def __init__(self, name_of_vehicle, max_speed, average_of_vehicle):\n",
    "        self.name_of_vehicle = name_of_vehicle\n",
    "        self.max_speed = max_speed\n",
    "        self.average_of_vehicle = average_of_vehicle"
   ]
  },
  {
   "cell_type": "markdown",
   "id": "cd7f746d",
   "metadata": {},
   "source": [
    "## Q2. Create a child class car from the vehicle class created in Que 1, which will inherit the vehicle class.Create a method named seating_capacity which takes capacity as an argument and returns the name of the vehicle and its seating capacity."
   ]
  },
  {
   "cell_type": "code",
   "execution_count": 13,
   "id": "9a359f5f",
   "metadata": {},
   "outputs": [],
   "source": [
    "class car(vehicle):\n",
    "    \n",
    "    def __init__(self, name, speed, avg):\n",
    "        super().__init__(name, speed, avg)\n",
    "        \n",
    "    def seating_capacity(self, capacity):\n",
    "        self.capacity = capacity\n",
    "        return self.capacity"
   ]
  },
  {
   "cell_type": "code",
   "execution_count": 15,
   "id": "634e37b9",
   "metadata": {},
   "outputs": [],
   "source": [
    "c1 = car('C-class', '240mph', 15)"
   ]
  },
  {
   "cell_type": "code",
   "execution_count": 17,
   "id": "987a38ed",
   "metadata": {},
   "outputs": [
    {
     "data": {
      "text/plain": [
       "5"
      ]
     },
     "execution_count": 17,
     "metadata": {},
     "output_type": "execute_result"
    }
   ],
   "source": [
    "c1.seating_capacity(5)"
   ]
  },
  {
   "cell_type": "code",
   "execution_count": 18,
   "id": "5862bf7e",
   "metadata": {},
   "outputs": [
    {
     "data": {
      "text/plain": [
       "'C-class'"
      ]
     },
     "execution_count": 18,
     "metadata": {},
     "output_type": "execute_result"
    }
   ],
   "source": [
    "c1.name_of_vehicle"
   ]
  },
  {
   "cell_type": "code",
   "execution_count": 19,
   "id": "bd4514cb",
   "metadata": {},
   "outputs": [
    {
     "data": {
      "text/plain": [
       "15"
      ]
     },
     "execution_count": 19,
     "metadata": {},
     "output_type": "execute_result"
    }
   ],
   "source": [
    "c1.average_of_vehicle"
   ]
  },
  {
   "cell_type": "code",
   "execution_count": 20,
   "id": "37d15339",
   "metadata": {},
   "outputs": [
    {
     "data": {
      "text/plain": [
       "'240mph'"
      ]
     },
     "execution_count": 20,
     "metadata": {},
     "output_type": "execute_result"
    }
   ],
   "source": [
    "c1.max_speed"
   ]
  },
  {
   "cell_type": "markdown",
   "id": "11a8a642",
   "metadata": {},
   "source": [
    "## Q3. What is multiple inheritance? Write a python code to demonstrate multiple inheritance."
   ]
  },
  {
   "cell_type": "code",
   "execution_count": 21,
   "id": "9e079e26",
   "metadata": {},
   "outputs": [],
   "source": [
    "class A:\n",
    "    def methodA(self):\n",
    "        return 'method A'"
   ]
  },
  {
   "cell_type": "code",
   "execution_count": 22,
   "id": "2984ea66",
   "metadata": {},
   "outputs": [],
   "source": [
    "class B:\n",
    "    def methodB(self):\n",
    "        return 'method B'"
   ]
  },
  {
   "cell_type": "code",
   "execution_count": 29,
   "id": "b47ced7e",
   "metadata": {},
   "outputs": [],
   "source": [
    "class C(A, B):\n",
    "    def methodC(self):\n",
    "        return 'method C'"
   ]
  },
  {
   "cell_type": "code",
   "execution_count": 30,
   "id": "ad5010bf",
   "metadata": {},
   "outputs": [],
   "source": [
    "obj_c = C()"
   ]
  },
  {
   "cell_type": "code",
   "execution_count": 31,
   "id": "570814a2",
   "metadata": {},
   "outputs": [
    {
     "data": {
      "text/plain": [
       "'method C'"
      ]
     },
     "execution_count": 31,
     "metadata": {},
     "output_type": "execute_result"
    }
   ],
   "source": [
    "obj_c.methodC()"
   ]
  },
  {
   "cell_type": "code",
   "execution_count": 32,
   "id": "11861072",
   "metadata": {},
   "outputs": [
    {
     "data": {
      "text/plain": [
       "'method A'"
      ]
     },
     "execution_count": 32,
     "metadata": {},
     "output_type": "execute_result"
    }
   ],
   "source": [
    "obj_c.methodA()"
   ]
  },
  {
   "cell_type": "code",
   "execution_count": 33,
   "id": "77d59604",
   "metadata": {},
   "outputs": [
    {
     "data": {
      "text/plain": [
       "'method B'"
      ]
     },
     "execution_count": 33,
     "metadata": {},
     "output_type": "execute_result"
    }
   ],
   "source": [
    "obj_c.methodB()"
   ]
  },
  {
   "cell_type": "markdown",
   "id": "b0027e97",
   "metadata": {},
   "source": [
    "## Q4. What are getter and setter in python? Create a class and create a getter and a setter method in this class."
   ]
  },
  {
   "cell_type": "markdown",
   "id": "9a61f401",
   "metadata": {},
   "source": [
    "getter and setter are methods of decorators, which we use to access the private or protected attributes of any class via outside objects."
   ]
  },
  {
   "cell_type": "code",
   "execution_count": 1,
   "id": "5d8875f9",
   "metadata": {},
   "outputs": [],
   "source": [
    "class abc:\n",
    "    \n",
    "    def __init__(self, name):\n",
    "        self.__name = name\n",
    "        \n",
    "    def getter(self):\n",
    "        return self.__name\n",
    "    \n",
    "    def setter(self, name):\n",
    "        self.__name = name\n",
    "        return self.__name"
   ]
  },
  {
   "cell_type": "code",
   "execution_count": 2,
   "id": "0e26da16",
   "metadata": {},
   "outputs": [],
   "source": [
    "obj = abc('Yash Patel')"
   ]
  },
  {
   "cell_type": "code",
   "execution_count": 5,
   "id": "7a32d947",
   "metadata": {},
   "outputs": [
    {
     "ename": "AttributeError",
     "evalue": "'abc' object has no attribute '__name'",
     "output_type": "error",
     "traceback": [
      "\u001b[1;31m---------------------------------------------------------------------------\u001b[0m",
      "\u001b[1;31mAttributeError\u001b[0m                            Traceback (most recent call last)",
      "Cell \u001b[1;32mIn[5], line 1\u001b[0m\n\u001b[1;32m----> 1\u001b[0m \u001b[43mobj\u001b[49m\u001b[38;5;241;43m.\u001b[39;49m\u001b[43m__name\u001b[49m\n",
      "\u001b[1;31mAttributeError\u001b[0m: 'abc' object has no attribute '__name'"
     ]
    }
   ],
   "source": [
    "obj.__name"
   ]
  },
  {
   "cell_type": "code",
   "execution_count": 3,
   "id": "22b11915",
   "metadata": {},
   "outputs": [
    {
     "data": {
      "text/plain": [
       "'Yash Patel'"
      ]
     },
     "execution_count": 3,
     "metadata": {},
     "output_type": "execute_result"
    }
   ],
   "source": [
    "obj.getter()"
   ]
  },
  {
   "cell_type": "code",
   "execution_count": 4,
   "id": "24c845b6",
   "metadata": {},
   "outputs": [
    {
     "data": {
      "text/plain": [
       "'Admin'"
      ]
     },
     "execution_count": 4,
     "metadata": {},
     "output_type": "execute_result"
    }
   ],
   "source": [
    "obj.setter('Admin')"
   ]
  },
  {
   "cell_type": "code",
   "execution_count": 6,
   "id": "a8849d9b",
   "metadata": {},
   "outputs": [
    {
     "data": {
      "text/plain": [
       "'Admin'"
      ]
     },
     "execution_count": 6,
     "metadata": {},
     "output_type": "execute_result"
    }
   ],
   "source": [
    "obj._abc__name"
   ]
  },
  {
   "cell_type": "markdown",
   "id": "fb7d7d9a",
   "metadata": {},
   "source": [
    "## Q5.What is method overriding in python? Write a python code to demonstrate method overriding."
   ]
  },
  {
   "cell_type": "markdown",
   "id": "45438d5a",
   "metadata": {},
   "source": [
    "method overriding is a feature of object oriented programming. Here a child class can rewrite the rule of any method of a parent class."
   ]
  },
  {
   "cell_type": "code",
   "execution_count": 7,
   "id": "404dfb86",
   "metadata": {},
   "outputs": [],
   "source": [
    "class parent:\n",
    "    \n",
    "    def __init__(self, name):\n",
    "        self.name = name\n",
    "    \n",
    "    def display(self):\n",
    "        return self.name\n",
    "    \n",
    "class child(parent):\n",
    "    \n",
    "    def __init__(self, name):\n",
    "        self.name = name\n",
    "        \n",
    "    def display(self):\n",
    "        return self.name"
   ]
  },
  {
   "cell_type": "code",
   "execution_count": 8,
   "id": "4870bf8e",
   "metadata": {},
   "outputs": [],
   "source": [
    "obj_child = child('Yash')\n",
    "obj_parent = parent('Ashokbhai')"
   ]
  },
  {
   "cell_type": "code",
   "execution_count": 9,
   "id": "a04564c3",
   "metadata": {},
   "outputs": [
    {
     "data": {
      "text/plain": [
       "'Ashokbhai'"
      ]
     },
     "execution_count": 9,
     "metadata": {},
     "output_type": "execute_result"
    }
   ],
   "source": [
    "obj_parent.display()"
   ]
  },
  {
   "cell_type": "code",
   "execution_count": 10,
   "id": "9ed4c9a7",
   "metadata": {},
   "outputs": [
    {
     "data": {
      "text/plain": [
       "'Yash'"
      ]
     },
     "execution_count": 10,
     "metadata": {},
     "output_type": "execute_result"
    }
   ],
   "source": [
    "obj_child.display()"
   ]
  },
  {
   "cell_type": "code",
   "execution_count": null,
   "id": "b937c641",
   "metadata": {},
   "outputs": [],
   "source": []
  }
 ],
 "metadata": {
  "kernelspec": {
   "display_name": "Python 3 (ipykernel)",
   "language": "python",
   "name": "python3"
  },
  "language_info": {
   "codemirror_mode": {
    "name": "ipython",
    "version": 3
   },
   "file_extension": ".py",
   "mimetype": "text/x-python",
   "name": "python",
   "nbconvert_exporter": "python",
   "pygments_lexer": "ipython3",
   "version": "3.10.9"
  }
 },
 "nbformat": 4,
 "nbformat_minor": 5
}
