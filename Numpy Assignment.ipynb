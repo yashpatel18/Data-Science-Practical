{
 "cells": [
  {
   "cell_type": "code",
   "execution_count": 1,
   "id": "d723ea78-84fc-4471-9ba4-4791e86309d9",
   "metadata": {},
   "outputs": [],
   "source": [
    "import numpy as np"
   ]
  },
  {
   "cell_type": "code",
   "execution_count": 3,
   "id": "a242f805-9b27-4274-a0b5-406b9ebac573",
   "metadata": {},
   "outputs": [],
   "source": [
    "list_ = ['1', '2', '3', '4', '5']"
   ]
  },
  {
   "cell_type": "code",
   "execution_count": 5,
   "id": "0992a958-03fd-46f4-8e2b-567d326a8082",
   "metadata": {},
   "outputs": [],
   "source": [
    "array_list = np.array(object = list_)"
   ]
  },
  {
   "cell_type": "markdown",
   "id": "2b9c8e86-5ec6-41d6-8fa3-699e58bfe575",
   "metadata": {},
   "source": [
    "## Q1. Is there any difference in the data type of variables list_ and array_list? If there is then write a code to print the data types of both the variables."
   ]
  },
  {
   "cell_type": "markdown",
   "id": "0fd7ba53-ca3e-498b-848b-de69e19bb300",
   "metadata": {},
   "source": [
    "Yes, list_ is a type of a normal list. and array_list is an array of dimention1.  "
   ]
  },
  {
   "cell_type": "code",
   "execution_count": 10,
   "id": "1f74500b-07c1-4648-adfc-8d8d50efd6e6",
   "metadata": {},
   "outputs": [
    {
     "data": {
      "text/plain": [
       "list"
      ]
     },
     "execution_count": 10,
     "metadata": {},
     "output_type": "execute_result"
    }
   ],
   "source": [
    "type(list_)"
   ]
  },
  {
   "cell_type": "code",
   "execution_count": 12,
   "id": "c7ff6925-074f-482e-9535-b3c046a0383a",
   "metadata": {},
   "outputs": [
    {
     "data": {
      "text/plain": [
       "numpy.ndarray"
      ]
     },
     "execution_count": 12,
     "metadata": {},
     "output_type": "execute_result"
    }
   ],
   "source": [
    "type(array_list)"
   ]
  },
  {
   "cell_type": "markdown",
   "id": "10b6a24d-f1bb-49a7-b80f-e6cc92e85d12",
   "metadata": {},
   "source": [
    "# Q2. Write a code to print the data type of each and every element of both the variables list_ and \n",
    "arrya_list."
   ]
  },
  {
   "cell_type": "code",
   "execution_count": 21,
   "id": "0506033b-3ff2-465a-9814-6d3b3b97ace8",
   "metadata": {},
   "outputs": [
    {
     "name": "stdout",
     "output_type": "stream",
     "text": [
      "<class 'str'>\n",
      "<class 'str'>\n",
      "<class 'str'>\n",
      "<class 'str'>\n",
      "<class 'str'>\n",
      "<class 'numpy.str_'>\n",
      "<class 'numpy.str_'>\n",
      "<class 'numpy.str_'>\n",
      "<class 'numpy.str_'>\n",
      "<class 'numpy.str_'>\n"
     ]
    }
   ],
   "source": [
    "for i in range(len(list_)):\n",
    "    print(type(list_[i]))\n",
    "for j in range(len(array_list)):\n",
    "    print(type(array_list[i]))"
   ]
  },
  {
   "cell_type": "code",
   "execution_count": 25,
   "id": "1d2a8b19-2a7a-4631-a682-a0756b3e1760",
   "metadata": {},
   "outputs": [
    {
     "data": {
      "text/plain": [
       "False"
      ]
     },
     "execution_count": 25,
     "metadata": {},
     "output_type": "execute_result"
    }
   ],
   "source": [
    "array_list[0].dtype == type(array_list[0])"
   ]
  },
  {
   "cell_type": "code",
   "execution_count": 27,
   "id": "ece999c2-1bf9-4ac8-baee-878dfee5dfcb",
   "metadata": {},
   "outputs": [
    {
     "data": {
      "text/plain": [
       "numpy.str_"
      ]
     },
     "execution_count": 27,
     "metadata": {},
     "output_type": "execute_result"
    }
   ],
   "source": [
    "type(array_list[0])"
   ]
  },
  {
   "cell_type": "code",
   "execution_count": 31,
   "id": "add93157-3c52-470f-a4e3-8d2235fa2c76",
   "metadata": {},
   "outputs": [
    {
     "data": {
      "text/plain": [
       "dtype('<U1')"
      ]
     },
     "execution_count": 31,
     "metadata": {},
     "output_type": "execute_result"
    }
   ],
   "source": [
    "array_list[0].dtype"
   ]
  },
  {
   "cell_type": "markdown",
   "id": "024cf82c-ba85-4211-a162-b62a9896737b",
   "metadata": {},
   "source": [
    "# Q3. Considering the following changes in the variable, array_list: \n",
    "array_list = np.array(object = list_, dtype = int)"
   ]
  },
  {
   "cell_type": "code",
   "execution_count": 35,
   "id": "b3b44fe9-c9f0-4115-a9be-c8e5cb02266c",
   "metadata": {},
   "outputs": [],
   "source": [
    "array_list = np.array(object = list_, dtype = int)"
   ]
  },
  {
   "cell_type": "markdown",
   "id": "92a375a7-1ac7-4e58-806a-5b5fc8cada79",
   "metadata": {},
   "source": [
    "## Will there be any difference in the data type of the elements present in both the variables, list_ and arra_list? If so then print the data types of each and every element present in both the variables, list_ and array_list."
   ]
  },
  {
   "cell_type": "markdown",
   "id": "d3eb334f-8b7e-423a-8d8d-c9b18b966de9",
   "metadata": {},
   "source": [
    "Yes there is a difference between data types of elements present in both variables. list_ contains data of type string while array_list contains the data type of integer."
   ]
  },
  {
   "cell_type": "code",
   "execution_count": 39,
   "id": "1de37448-4b3b-45d9-bd55-fdcd39ff6747",
   "metadata": {},
   "outputs": [],
   "source": [
    "import numpy as np\n",
    "num_list = [ [ 1 , 2 , 3 ] , [ 4 , 5 , 6 ] ]\n",
    "num_array = np.array(object = num_list)"
   ]
  },
  {
   "cell_type": "markdown",
   "id": "efbf2bf3-72e3-47c3-9640-df89b06d634e",
   "metadata": {},
   "source": [
    "# Q4. Write a code to find the following characteristics of variable, num_array:\r\n",
    "(i) shape\r\n",
    "(ii) size"
   ]
  },
  {
   "cell_type": "code",
   "execution_count": 42,
   "id": "7c0e2a0e-e6b3-450e-a063-b6d5071bd46c",
   "metadata": {},
   "outputs": [
    {
     "data": {
      "text/plain": [
       "(2, 3)"
      ]
     },
     "execution_count": 42,
     "metadata": {},
     "output_type": "execute_result"
    }
   ],
   "source": [
    "num_array.shape"
   ]
  },
  {
   "cell_type": "code",
   "execution_count": 44,
   "id": "d98282de-4c41-4ee5-ba00-ca2f74bda453",
   "metadata": {},
   "outputs": [
    {
     "data": {
      "text/plain": [
       "6"
      ]
     },
     "execution_count": 44,
     "metadata": {},
     "output_type": "execute_result"
    }
   ],
   "source": [
    "num_array.size"
   ]
  },
  {
   "cell_type": "markdown",
   "id": "22f05b51-765d-4fdc-8a63-d0c05a1d098e",
   "metadata": {},
   "source": [
    "# Q5. Write a code to create numpy array of 3*3 matrix containing zeros only, using a numpy array\n",
    "creation function.\n",
    "[Hint: The size of the array will be 9 and the shape will be (3,3).]"
   ]
  },
  {
   "cell_type": "code",
   "execution_count": 49,
   "id": "b609b2ba-84da-496d-ac8a-5db3b411ac2e",
   "metadata": {},
   "outputs": [
    {
     "data": {
      "text/plain": [
       "array([[0., 0., 0.],\n",
       "       [0., 0., 0.],\n",
       "       [0., 0., 0.]])"
      ]
     },
     "execution_count": 49,
     "metadata": {},
     "output_type": "execute_result"
    }
   ],
   "source": [
    "np.zeros((3,3))"
   ]
  },
  {
   "cell_type": "markdown",
   "id": "b53e8df2-f80a-452a-a2d0-98d9b74ed256",
   "metadata": {},
   "source": [
    "# Q6. Create an identity matrix of shape (5,5) using numpy functions?\n",
    "[Hint: An identity matrix is a matrix containing 1 diagonally and other elements will be 0.]"
   ]
  },
  {
   "cell_type": "code",
   "execution_count": 52,
   "id": "9497e080-8ca0-45be-b22f-f6c3fc64bdd2",
   "metadata": {},
   "outputs": [
    {
     "data": {
      "text/plain": [
       "array([[1., 0., 0., 0., 0.],\n",
       "       [0., 1., 0., 0., 0.],\n",
       "       [0., 0., 1., 0., 0.],\n",
       "       [0., 0., 0., 1., 0.],\n",
       "       [0., 0., 0., 0., 1.]])"
      ]
     },
     "execution_count": 52,
     "metadata": {},
     "output_type": "execute_result"
    }
   ],
   "source": [
    "np.eye(5)"
   ]
  },
  {
   "cell_type": "code",
   "execution_count": null,
   "id": "d1984fc7-f1f6-4e12-b8c6-4cfeb1abb43d",
   "metadata": {},
   "outputs": [],
   "source": []
  }
 ],
 "metadata": {
  "kernelspec": {
   "display_name": "Python 3 (ipykernel)",
   "language": "python",
   "name": "python3"
  },
  "language_info": {
   "codemirror_mode": {
    "name": "ipython",
    "version": 3
   },
   "file_extension": ".py",
   "mimetype": "text/x-python",
   "name": "python",
   "nbconvert_exporter": "python",
   "pygments_lexer": "ipython3",
   "version": "3.11.7"
  }
 },
 "nbformat": 4,
 "nbformat_minor": 5
}
